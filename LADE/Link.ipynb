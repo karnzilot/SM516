{
 "cells": [
  {
   "cell_type": "markdown",
   "metadata": {},
   "source": [
    "# Book"
   ]
  },
  {
   "cell_type": "markdown",
   "metadata": {},
   "source": [
    "* [Numerical-python-second-ed](https://github.com/Apress/numerical-python-second-ed)\n",
    "* [Learning Python: Student book](https://learning-python.com/class/Workbook/)\n",
    "* [Numerical Python: Scientific Computing and Data Science Applications with Numpy, SciPy and Matplotlib](https://libgen.is/book/index.php?md5=2F25249C71AB98C720B019FED27DE501)\n",
    "* [Complete-Python-3-Bootcamp](https://github.com/Pierian-Data/Complete-Python-3-Bootcamp)\n",
    "* [data-science-ipython-notebooks/pandas.ipynb](https://github.com/donnemartin/data-science-ipython-notebooks/blob/master/pandas/pandas.ipynb)"
   ]
  },
  {
   "cell_type": "markdown",
   "metadata": {},
   "source": [
    "# Facebook Page"
   ]
  },
  {
   "cell_type": "markdown",
   "metadata": {},
   "source": [
    "* [LearnRealPython](https://www.facebook.com/LearnRealPython/)\n",
    "* [Python Programming](https://www.facebook.com/Pythontutorial4u/?epa=SEARCH_BOX)"
   ]
  },
  {
   "cell_type": "markdown",
   "metadata": {},
   "source": [
    "# Website"
   ]
  },
  {
   "cell_type": "markdown",
   "metadata": {},
   "source": [
    "* [Financial-Models-Numerical-Methods](https://github.com/cantaro86/Financial-Models-Numerical-Methods)\n",
    "* [jupyter-widgets](https://github.com/jupyter-widgets)\n",
    "* [scientific-python-lectures](https://github.com/jrjohansson/scientific-python-lectures)\n",
    "* [Built-in magic commands](https://ipython.readthedocs.io/en/stable/interactive/magics.html)\n",
    "* [python-course.eu](https://python-course.eu/)\n",
    "* [scientific-python-lectures](https://github.com/jrjohansson/scientific-python-lectures)"
   ]
  }
 ],
 "metadata": {
  "kernelspec": {
   "display_name": "Python 3",
   "language": "python",
   "name": "python3"
  },
  "language_info": {
   "codemirror_mode": {
    "name": "ipython",
    "version": 3
   },
   "file_extension": ".py",
   "mimetype": "text/x-python",
   "name": "python",
   "nbconvert_exporter": "python",
   "pygments_lexer": "ipython3",
   "version": "3.8.1"
  }
 },
 "nbformat": 4,
 "nbformat_minor": 2
}
