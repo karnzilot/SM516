{
 "cells": [
  {
   "cell_type": "markdown",
   "metadata": {},
   "source": [
    "# <center>Chapter 1: Optimization Problems"
   ]
  },
  {
   "cell_type": "markdown",
   "metadata": {},
   "source": [
    "<b><u>Intoduction</u></b>: Optimization problems deal with finding the best way to do a problem subject tomy constraints or restruction on the actions\n",
    "<br>that may be taken to accomplish the task. Many problems can be posed as optimaization problem."
   ]
  },
  {
   "cell_type": "markdown",
   "metadata": {},
   "source": [
    "<b><u>Examples of optimization problems</u></b>\n",
    "* Choosing an investing portfolio to minimize risk or maximize its return\n",
    "* Maximizing the profit obtained from selling different products\n",
    "* The design of the shape of an aircraft to maximize the aircraft performance of minimize the construction cost"
   ]
  },
  {
   "cell_type": "markdown",
   "metadata": {},
   "source": [
    "#### The standard form of the optimization problems\n",
    "Minimize $f(\\bar{x})$ , $\\bar{x} ** R^n$\n",
    "<br>Subject to $\\bar{x}$ ** principle region\n",
    "<br>when $\\bar{x}$ is a column vector with n elements and\n",
    "<br>$\\bar{x}^T$ is a row vector\n",
    "\n",
    "$$\\bar{x} = \\left[\n",
    "\\begin{array}{c}\n",
    "x_1 \\\\ x_2 \\\\ . \\\\ . \\\\ . \\\\ x_n\n",
    "\\end{array}\n",
    "\\right] ,\n",
    "\\bar{x}^T = \\begin{bmatrix} x_1 & x_2 & ... & x_n \\end{bmatrix}\n",
    "$$\n",
    "or $$\\bar{x} = \\left[\n",
    "\\begin{array}{c}\n",
    "x_1 \\\\ x_2 \\\\ . \\\\ . \\\\ . \\\\ x_n\n",
    "\\end{array}\n",
    "\\right] = \\begin{bmatrix} x_1 & x_2 & ... & x_n \\end{bmatrix}^T\n",
    "$$\n"
   ]
  },
  {
   "cell_type": "markdown",
   "metadata": {},
   "source": [
    "## The Euclidean length : $||\\bar{x}||$ of $\\bar{x} ∈ R^n$\n",
    "is $||\\bar{x}|| =  (\\sum_{i=1}^{n} x^2_i)^{1/2} = ||\\bar{x}||_2(norm_2) $ \n",
    "<br>the function $f(\\bar{x})$ is call the objective function. The set Ω is a subject of n dimensional Euclidean space.\n",
    "<br> $R^n (Ω ⊂ R^n)$ called the fessible region.\n",
    "<br>\n",
    "<br>If Ω consits of all points $\\bar{x} ∈ R^n$ which satisfy all the constraints $(Ω = R^n)$, than the problem is unconstrained.\n",
    "<br>If $Ω ⊂ R^n)$, than the  problem is constrained.\n",
    "<br>\n",
    "<br>Any problem posed as maximization problem can be convert to be a minimization problem by changing the sign of the objective function.\n",
    "<br>The problem: max $f(\\bar{x})$ &nbsp; -> &nbsp; min $-f(\\bar{x})$ // Subject to $c_i(\\bar{x})=0$ , &nbsp;i=1,2,...,m ->  $c_i(\\bar{x})=0$ , &nbsp;i=1,2,...,n\n",
    "<br>when max f($\\bar{x}$) have the same solution.\n",
    "<br>The fesible of regrim Ω :\n",
    "<br> Ω = {$\\bar{x} ∈ R^n | e_i(\\bar{x}) = 0$, $∀_i ∈ E$ (Equity Constraints)}\n",
    "| $e_i(\\bar{x}) ≤ 0$, $∀_i ∈ I$ (Inqulity Constraints)"
   ]
  },
  {
   "cell_type": "code",
   "execution_count": null,
   "metadata": {},
   "outputs": [],
   "source": []
  }
 ],
 "metadata": {
  "kernelspec": {
   "display_name": "Python 3",
   "language": "python",
   "name": "python3"
  },
  "language_info": {
   "codemirror_mode": {
    "name": "ipython",
    "version": 3
   },
   "file_extension": ".py",
   "mimetype": "text/x-python",
   "name": "python",
   "nbconvert_exporter": "python",
   "pygments_lexer": "ipython3",
   "version": "3.8.1"
  }
 },
 "nbformat": 4,
 "nbformat_minor": 2
}
